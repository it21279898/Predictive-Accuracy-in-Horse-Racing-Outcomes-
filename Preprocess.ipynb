{
 "cells": [
  {
   "cell_type": "code",
   "execution_count": 92,
   "metadata": {},
   "outputs": [],
   "source": [
    "import pandas as pd\n",
    "\n",
    "# Load CSV files into DataFrames\n",
    "horses_df = pd.read_csv('C:\\\\Users\\\\sujit\\\\OneDrive - Sri Lanka Institute of Information Technology\\\\Research SLIIT\\\\Research Project\\\\Dataset\\\\horses.csv')\n",
    "jockeys_df = pd.read_csv('C:\\\\Users\\\\sujit\\\\OneDrive - Sri Lanka Institute of Information Technology\\\\Research SLIIT\\\\Research Project\\\\Dataset\\\\jockeys.csv')\n",
    "prognoses_df = pd.read_csv('C:\\\\Users\\\\sujit\\\\OneDrive - Sri Lanka Institute of Information Technology\\\\Research SLIIT\\\\Research Project\\\\Dataset\\\\prognoses.csv')\n",
    "races_df = pd.read_csv('C:\\\\Users\\\\sujit\\\\OneDrive - Sri Lanka Institute of Information Technology\\\\Research SLIIT\\\\Research Project\\\\Dataset\\\\races.csv')\n",
    "trainers_df = pd.read_csv('C:\\\\Users\\\\sujit\\\\OneDrive - Sri Lanka Institute of Information Technology\\\\Research SLIIT\\\\Research Project\\\\Dataset\\\\trainers.csv')\n",
    "winnings_df = pd.read_csv('C:\\\\Users\\\\sujit\\\\OneDrive - Sri Lanka Institute of Information Technology\\\\Research SLIIT\\\\Research Project\\\\Dataset\\\\winnings.csv')\n",
    "final_results_df = pd.read_csv('C:\\\\Users\\\\sujit\\\\OneDrive - Sri Lanka Institute of Information Technology\\\\Research SLIIT\\\\Research Project\\\\Dataset\\\\final_results.csv')\n"
   ]
  },
  {
   "cell_type": "code",
   "execution_count": 93,
   "metadata": {},
   "outputs": [
    {
     "name": "stdout",
     "output_type": "stream",
     "text": [
      "  horse_id race_id                     race_name     horse_name number sex  \\\n",
      "0      H_1     R_1  Prix Zeturf (Prix North Jet)       MARSELAN      1   H   \n",
      "1      H_2     R_1  Prix Zeturf (Prix North Jet)    HASHTAG JOA      2   F   \n",
      "2      H_3     R_1  Prix Zeturf (Prix North Jet)          GABON      3   M   \n",
      "3      H_4     R_1  Prix Zeturf (Prix North Jet)  SACHA SUNRISE      4   M   \n",
      "4      H_5     R_1  Prix Zeturf (Prix North Jet)         ZABYAK      5   M   \n",
      "\n",
      "  age  handicap_weight         jockey                      trainer  \\\n",
      "0   2             57.0      Demuro C.                     Brogi S.   \n",
      "1   2             55.5   Roussel Ale.                  Monfort Ed.   \n",
      "2   2             55.5  Murzabayev B.  Janackova Koplikova Mlle I.   \n",
      "3   2             55.5       Guyon M.                 Vermeulen F.   \n",
      "4   2             55.5     Besnier H.  Janackova Koplikova Mlle I.   \n",
      "\n",
      "   win_odd_live  reference_odd  min_place_odd  max_place_odd  ze_show_odd  \\\n",
      "0           3.1            3.0            1.3            1.8          5.0   \n",
      "1           4.4            5.1            1.8            2.4          3.4   \n",
      "2           2.9            3.1            1.3            1.8          3.6   \n",
      "3           6.7            6.1            3.0            4.2          4.2   \n",
      "4          15.4           14.6            5.5            7.6          8.1   \n",
      "\n",
      "   ze_4th_odd        music  corde  position  \n",
      "0         0.0        3p 1p      7         1  \n",
      "1         0.0  4p 2p 4p 1p      1         4  \n",
      "2         0.0           3p      3         2  \n",
      "3         0.0           5p      4         3  \n",
      "4         0.0           7p      6         5  \n"
     ]
    }
   ],
   "source": [
    "# View the first few rows\n",
    "print(horses_df.head())\n",
    "\n"
   ]
  },
  {
   "cell_type": "code",
   "execution_count": 94,
   "metadata": {},
   "outputs": [
    {
     "name": "stdout",
     "output_type": "stream",
     "text": [
      "  jockey_id    jockey_name race_id                     race_name horse_id  \\\n",
      "0       J_1      Demuro C.     R_1  Prix Zeturf (Prix North Jet)      H_1   \n",
      "1       J_2   Roussel Ale.     R_1  Prix Zeturf (Prix North Jet)      H_2   \n",
      "2       J_3  Murzabayev B.     R_1  Prix Zeturf (Prix North Jet)      H_3   \n",
      "3       J_4       Guyon M.     R_1  Prix Zeturf (Prix North Jet)      H_4   \n",
      "4       J_5     Besnier H.     R_1  Prix Zeturf (Prix North Jet)      H_5   \n",
      "\n",
      "  horse_number     horse_name  handicap_weight  win_odd_live  reference_odd  \\\n",
      "0            1       MARSELAN             57.0           3.1            3.0   \n",
      "1            2    HASHTAG JOA             55.5           4.4            5.1   \n",
      "2            3          GABON             55.5           2.9            3.1   \n",
      "3            4  SACHA SUNRISE             55.5           6.7            6.1   \n",
      "4            5         ZABYAK             55.5          15.4           14.6   \n",
      "\n",
      "   min_place_odd  max_place_odd  ze_show_odd  ze_4th_odd  position  \n",
      "0            1.3            1.8          5.0         0.0         1  \n",
      "1            1.8            2.4          3.4         0.0         4  \n",
      "2            1.3            1.8          3.6         0.0         2  \n",
      "3            3.0            4.2          4.2         0.0         3  \n",
      "4            5.5            7.6          8.1         0.0         5  \n"
     ]
    }
   ],
   "source": [
    "print(jockeys_df.head())"
   ]
  },
  {
   "cell_type": "code",
   "execution_count": 95,
   "metadata": {},
   "outputs": [
    {
     "name": "stdout",
     "output_type": "stream",
     "text": [
      "  prognose_id race_id                                          race_name  1st  \\\n",
      "0        OC_1     R_1                       Prix Zeturf (Prix North Jet)    3   \n",
      "1        OC_2     R_2                 Prix Grandeur Nature (Prix Ramsin)    2   \n",
      "2        OC_3     R_3   Prix Sissy's Art et Création (Prix Voix du Nord)    6   \n",
      "3        OC_4     R_4  Prix Clôture du Meeting Clairefontaine l'Athip...   10   \n",
      "4        OC_5     R_5  Prix Juste Equilibre avec Darty Deauville (Pri...    1   \n",
      "\n",
      "   2nd  3nd  4th  5th  6th  7th  \n",
      "0    1    2    4    0    0    0  \n",
      "1    5    1    3    0    0    0  \n",
      "2    4    7    2    0    0    0  \n",
      "3    4    7   14    6    8    5  \n",
      "4    7    2   11   10    4    6  \n"
     ]
    }
   ],
   "source": [
    "print(prognoses_df.head())\n"
   ]
  },
  {
   "cell_type": "code",
   "execution_count": 96,
   "metadata": {},
   "outputs": [
    {
     "name": "stdout",
     "output_type": "stream",
     "text": [
      "  race_id        date  Start      event_name  \\\n",
      "0     R_1  26/08/2023  13h23  CLAIREFONTAINE   \n",
      "1     R_2  26/08/2023  13h58  CLAIREFONTAINE   \n",
      "2     R_3  26/08/2023  14h33  CLAIREFONTAINE   \n",
      "3     R_4  26/08/2023  15h15  CLAIREFONTAINE   \n",
      "4     R_5  26/08/2023  15h53  CLAIREFONTAINE   \n",
      "\n",
      "                                           race_name race_type  distance  \\\n",
      "0                       Prix Zeturf (Prix North Jet)      Plat      1800   \n",
      "1                 Prix Grandeur Nature (Prix Ramsin)      Plat      2900   \n",
      "2   Prix Sissy's Art et Création (Prix Voix du Nord)      Plat      2200   \n",
      "3  Prix Clôture du Meeting Clairefontaine l'Athip...      Plat      2200   \n",
      "4  Prix Juste Equilibre avec Darty Deauville (Pri...      Plat      2200   \n",
      "\n",
      "     prize   field  track   corde  penetrometer  number of horses  race time  \n",
      "0  34000.0  Souple  Herbe  droite           3.6                 6      115.6  \n",
      "1  28000.0  Souple  Herbe  droite           3.6                 7        0.0  \n",
      "2  28000.0  Souple  Herbe  droite           3.6                 7      144.5  \n",
      "3  53000.0  Souple  Herbe  droite           3.6                16      148.2  \n",
      "4  25000.0  Souple  Herbe  droite           3.6                12      147.2  \n"
     ]
    }
   ],
   "source": [
    "print(races_df.head())\n"
   ]
  },
  {
   "cell_type": "code",
   "execution_count": 97,
   "metadata": {},
   "outputs": [
    {
     "name": "stdout",
     "output_type": "stream",
     "text": [
      "  trainer_id                 trainer_name jockey_id    jockey_name race_id  \\\n",
      "0        T_1                     Brogi S.       J_1      Demuro C.     R_1   \n",
      "1        T_2                  Monfort Ed.       J_2   Roussel Ale.     R_1   \n",
      "2        T_3  Janackova Koplikova Mlle I.       J_3  Murzabayev B.     R_1   \n",
      "3        T_4                 Vermeulen F.       J_4       Guyon M.     R_1   \n",
      "4        T_3  Janackova Koplikova Mlle I.       J_5     Besnier H.     R_1   \n",
      "\n",
      "                      race_name horse_id horse_number     horse_name  \\\n",
      "0  Prix Zeturf (Prix North Jet)      H_1            1       MARSELAN   \n",
      "1  Prix Zeturf (Prix North Jet)      H_2            2    HASHTAG JOA   \n",
      "2  Prix Zeturf (Prix North Jet)      H_3            3          GABON   \n",
      "3  Prix Zeturf (Prix North Jet)      H_4            4  SACHA SUNRISE   \n",
      "4  Prix Zeturf (Prix North Jet)      H_5            5         ZABYAK   \n",
      "\n",
      "   handicap_weight  win_odd_live  reference_odd  min_place_odd  max_place_odd  \\\n",
      "0             57.0           3.1            3.0            1.3            1.8   \n",
      "1             55.5           4.4            5.1            1.8            2.4   \n",
      "2             55.5           2.9            3.1            1.3            1.8   \n",
      "3             55.5           6.7            6.1            3.0            4.2   \n",
      "4             55.5          15.4           14.6            5.5            7.6   \n",
      "\n",
      "   ze_show_odd  ze_4th_odd  position  \n",
      "0          5.0         0.0         1  \n",
      "1          3.4         0.0         4  \n",
      "2          3.6         0.0         2  \n",
      "3          4.2         0.0         3  \n",
      "4          8.1         0.0         5  \n"
     ]
    }
   ],
   "source": [
    "print(trainers_df.head())\n"
   ]
  },
  {
   "cell_type": "code",
   "execution_count": 98,
   "metadata": {},
   "outputs": [
    {
     "name": "stdout",
     "output_type": "stream",
     "text": [
      "  winning_id race_id                                          race_name  \\\n",
      "0        W_1     R_1                       Prix Zeturf (Prix North Jet)   \n",
      "1        W_2     R_2                 Prix Grandeur Nature (Prix Ramsin)   \n",
      "2        W_3     R_3   Prix Sissy's Art et Création (Prix Voix du Nord)   \n",
      "3        W_4     R_4  Prix Clôture du Meeting Clairefontaine l'Athip...   \n",
      "4        W_5     R_5  Prix Juste Equilibre avec Darty Deauville (Pri...   \n",
      "\n",
      "   number of horses  win  1_place ZE_Show  2_place  3_place ZE_4th  ...  \\\n",
      "0                 6  3.1      1.5     3.6      1.5      0.0      0  ...   \n",
      "1                 7  3.0      1.4     3.2      1.2      0.0      0  ...   \n",
      "2                 7  5.1      3.2     7.2      4.7      0.0      0  ...   \n",
      "3                16  5.4      2.3    10.4      5.6      2.7   11.9  ...   \n",
      "4                12  7.7      2.2     8.5      3.0      1.6    7.2  ...   \n",
      "\n",
      "  ZE_2/4  ZE_4  ZE_4_order ZE_5 ZE_234_2 ZE_234_3  ZE_234_4  ZE_345_3  \\\n",
      "0    0.0     0           0    0        0        0         0         0   \n",
      "1    0.0     0           0    0        0        0         0         0   \n",
      "2    0.0     0           0    0        0        0         0         0   \n",
      "3    6.8     0           0    0        0        0         0         0   \n",
      "4    3.0     0           0    0        0        0         0         0   \n",
      "\n",
      "   ZE_345_4  ZE_345_5  \n",
      "0         0         0  \n",
      "1         0         0  \n",
      "2         0         0  \n",
      "3         0         0  \n",
      "4         0         0  \n",
      "\n",
      "[5 rows x 26 columns]\n"
     ]
    }
   ],
   "source": [
    "print(winnings_df.head())\n"
   ]
  },
  {
   "cell_type": "code",
   "execution_count": 99,
   "metadata": {},
   "outputs": [
    {
     "name": "stdout",
     "output_type": "stream",
     "text": [
      "  final_result_id race_id                                          race_name  \\\n",
      "0            FR_1     R_1                       Prix Zeturf (Prix North Jet)   \n",
      "1            FR_2     R_2                 Prix Grandeur Nature (Prix Ramsin)   \n",
      "2            FR_3     R_3   Prix Sissy's Art et Création (Prix Voix du Nord)   \n",
      "3            FR_4     R_4  Prix Clôture du Meeting Clairefontaine l'Athip...   \n",
      "4            FR_5     R_5  Prix Juste Equilibre avec Darty Deauville (Pri...   \n",
      "\n",
      "  1st  2nd  3rd  4th  5th  6th  7th  \n",
      "0   1    3    4    2    5    7    0  \n",
      "1   5    2    6    1    3    7    4  \n",
      "2   7    5    4    3    2    1    6  \n",
      "3   4   11    5    2   12    8   13  \n",
      "4  10    5    7    2    1   11    3  \n"
     ]
    }
   ],
   "source": [
    "print(final_results_df.head())"
   ]
  },
  {
   "cell_type": "code",
   "execution_count": 100,
   "metadata": {},
   "outputs": [],
   "source": [
    "# Merge horses with races\n",
    "merged_df = pd.merge(horses_df, races_df, on='race_id', how='inner')\n",
    "\n",
    "# Merge the result with jockeys\n",
    "merged_df = pd.merge(merged_df, jockeys_df, on=['race_id', 'horse_id'], how='inner')\n",
    "\n",
    "\n",
    "# Rename 'race_name' in trainers_df to avoid conflict\n",
    "trainers_df = trainers_df.rename(columns={'race_name': 'trainer_race_name'})\n",
    "\n",
    "# Now merge without conflicts\n",
    "merged_df = pd.merge(merged_df, trainers_df, on=['race_id', 'horse_id', 'jockey_id'], how='inner')\n",
    "\n"
   ]
  },
  {
   "cell_type": "code",
   "execution_count": 101,
   "metadata": {},
   "outputs": [
    {
     "name": "stdout",
     "output_type": "stream",
     "text": [
      "<class 'pandas.core.frame.DataFrame'>\n",
      "RangeIndex: 75162 entries, 0 to 75161\n",
      "Data columns (total 59 columns):\n",
      " #   Column             Non-Null Count  Dtype  \n",
      "---  ------             --------------  -----  \n",
      " 0   horse_id           75162 non-null  object \n",
      " 1   race_id            75162 non-null  object \n",
      " 2   race_name_x        75162 non-null  object \n",
      " 3   horse_name_x       75162 non-null  object \n",
      " 4   number             75162 non-null  object \n",
      " 5   sex                75070 non-null  object \n",
      " 6   age                75162 non-null  object \n",
      " 7   handicap_weight_x  75162 non-null  float64\n",
      " 8   jockey             75090 non-null  object \n",
      " 9   trainer            75161 non-null  object \n",
      " 10  win_odd_live_x     75162 non-null  float64\n",
      " 11  reference_odd_x    75162 non-null  float64\n",
      " 12  min_place_odd_x    75162 non-null  float64\n",
      " 13  max_place_odd_x    75162 non-null  float64\n",
      " 14  ze_show_odd_x      75162 non-null  float64\n",
      " 15  ze_4th_odd_x       75162 non-null  float64\n",
      " 16  music              75162 non-null  object \n",
      " 17  corde_x            75162 non-null  int64  \n",
      " 18  position_x         75162 non-null  int64  \n",
      " 19  date               75162 non-null  object \n",
      " 20  Start              75162 non-null  object \n",
      " 21  event_name         75162 non-null  object \n",
      " 22  race_name_y        75162 non-null  object \n",
      " 23  race_type          75162 non-null  object \n",
      " 24  distance           75162 non-null  int64  \n",
      " 25  prize              75150 non-null  float64\n",
      " 26  field              75162 non-null  object \n",
      " 27  track              75162 non-null  object \n",
      " 28  corde_y            75162 non-null  object \n",
      " 29  penetrometer       75162 non-null  float64\n",
      " 30  number of horses   75162 non-null  int64  \n",
      " 31  race time          75162 non-null  float64\n",
      " 32  jockey_id          75162 non-null  object \n",
      " 33  jockey_name_x      75090 non-null  object \n",
      " 34  race_name          75162 non-null  object \n",
      " 35  horse_number_x     75162 non-null  object \n",
      " 36  horse_name_y       75162 non-null  object \n",
      " 37  handicap_weight_y  75162 non-null  float64\n",
      " 38  win_odd_live_y     75162 non-null  float64\n",
      " 39  reference_odd_y    75162 non-null  float64\n",
      " 40  min_place_odd_y    75162 non-null  float64\n",
      " 41  max_place_odd_y    75162 non-null  float64\n",
      " 42  ze_show_odd_y      75162 non-null  float64\n",
      " 43  ze_4th_odd_y       75162 non-null  float64\n",
      " 44  position_y         75162 non-null  int64  \n",
      " 45  trainer_id         75162 non-null  object \n",
      " 46  trainer_name       75161 non-null  object \n",
      " 47  jockey_name_y      75090 non-null  object \n",
      " 48  trainer_race_name  75162 non-null  object \n",
      " 49  horse_number_y     75162 non-null  object \n",
      " 50  horse_name         75162 non-null  object \n",
      " 51  handicap_weight    75162 non-null  float64\n",
      " 52  win_odd_live       75162 non-null  float64\n",
      " 53  reference_odd      75162 non-null  float64\n",
      " 54  min_place_odd      75162 non-null  float64\n",
      " 55  max_place_odd      75162 non-null  float64\n",
      " 56  ze_show_odd        75162 non-null  float64\n",
      " 57  ze_4th_odd         75162 non-null  float64\n",
      " 58  position           75162 non-null  int64  \n",
      "dtypes: float64(24), int64(6), object(29)\n",
      "memory usage: 33.8+ MB\n",
      "None\n"
     ]
    }
   ],
   "source": [
    "print(merged_df.info())"
   ]
  },
  {
   "cell_type": "code",
   "execution_count": 102,
   "metadata": {},
   "outputs": [],
   "source": [
    "# Rename 'race_name' in prognoses_df\n",
    "prognoses_df = prognoses_df.rename(columns={'race_name': 'prognose_race_name'})\n",
    "\n",
    "# Now merge without conflicts\n",
    "merged_df = pd.merge(merged_df, prognoses_df, on='race_id', how='left')\n"
   ]
  },
  {
   "cell_type": "code",
   "execution_count": 103,
   "metadata": {},
   "outputs": [],
   "source": [
    "# Rename 'race_name' in final_results_df to avoid conflict\n",
    "final_results_df = final_results_df.rename(columns={'race_name': 'final_race_name'})\n",
    "\n",
    "# Now merge without conflicts\n",
    "merged_df = pd.merge(merged_df, final_results_df, on='race_id', how='left')\n"
   ]
  },
  {
   "cell_type": "code",
   "execution_count": 104,
   "metadata": {},
   "outputs": [
    {
     "name": "stdout",
     "output_type": "stream",
     "text": [
      "Index(['horse_id', 'race_id', 'race_name_x', 'horse_name_x', 'number', 'sex',\n",
      "       'age', 'handicap_weight_x', 'jockey', 'trainer', 'win_odd_live_x',\n",
      "       'reference_odd_x', 'min_place_odd_x', 'max_place_odd_x',\n",
      "       'ze_show_odd_x', 'ze_4th_odd_x', 'music', 'corde_x', 'position_x',\n",
      "       'date', 'Start', 'event_name', 'race_name_y', 'race_type', 'distance',\n",
      "       'prize', 'field', 'track', 'corde_y', 'penetrometer',\n",
      "       'number of horses', 'race time', 'jockey_id', 'jockey_name_x',\n",
      "       'race_name', 'horse_number_x', 'horse_name_y', 'handicap_weight_y',\n",
      "       'win_odd_live_y', 'reference_odd_y', 'min_place_odd_y',\n",
      "       'max_place_odd_y', 'ze_show_odd_y', 'ze_4th_odd_y', 'position_y',\n",
      "       'trainer_id', 'trainer_name', 'jockey_name_y', 'trainer_race_name',\n",
      "       'horse_number_y', 'horse_name', 'handicap_weight', 'win_odd_live',\n",
      "       'reference_odd', 'min_place_odd', 'max_place_odd', 'ze_show_odd',\n",
      "       'ze_4th_odd', 'position', 'prognose_id', 'prognose_race_name', '1st_x',\n",
      "       '2nd_x', '3nd', '4th_x', '5th_x', '6th_x', '7th_x', 'final_result_id',\n",
      "       'final_race_name', '1st_y', '2nd_y', '3rd', '4th_y', '5th_y', '6th_y',\n",
      "       '7th_y'],\n",
      "      dtype='object')\n"
     ]
    }
   ],
   "source": [
    "print(merged_df.columns)\n"
   ]
  },
  {
   "cell_type": "code",
   "execution_count": 105,
   "metadata": {},
   "outputs": [],
   "source": [
    "# Rename 'race_name' in winnings_df if necessary\n",
    "winnings_df = winnings_df.rename(columns={'race_name': 'winnings_race_name'})\n",
    "\n",
    "# Now merge without conflicts\n",
    "merged_df = pd.merge(merged_df, winnings_df, on='race_id', how='left')\n"
   ]
  },
  {
   "cell_type": "code",
   "execution_count": 106,
   "metadata": {},
   "outputs": [
    {
     "name": "stdout",
     "output_type": "stream",
     "text": [
      "Index(['horse_id', 'race_id', 'race_name_x', 'horse_name_x', 'number', 'sex',\n",
      "       'age', 'handicap_weight_x', 'jockey', 'trainer',\n",
      "       ...\n",
      "       'ZE_2/4', 'ZE_4', 'ZE_4_order', 'ZE_5', 'ZE_234_2', 'ZE_234_3',\n",
      "       'ZE_234_4', 'ZE_345_3', 'ZE_345_4', 'ZE_345_5'],\n",
      "      dtype='object', length=102)\n"
     ]
    }
   ],
   "source": [
    "print(merged_df.columns)\n"
   ]
  },
  {
   "cell_type": "code",
   "execution_count": 107,
   "metadata": {},
   "outputs": [
    {
     "name": "stdout",
     "output_type": "stream",
     "text": [
      "  horse_id race_id                   race_name_x   horse_name_x number sex  \\\n",
      "0      H_1     R_1  Prix Zeturf (Prix North Jet)       MARSELAN      1   H   \n",
      "1      H_2     R_1  Prix Zeturf (Prix North Jet)    HASHTAG JOA      2   F   \n",
      "2      H_3     R_1  Prix Zeturf (Prix North Jet)          GABON      3   M   \n",
      "3      H_4     R_1  Prix Zeturf (Prix North Jet)  SACHA SUNRISE      4   M   \n",
      "4      H_5     R_1  Prix Zeturf (Prix North Jet)         ZABYAK      5   M   \n",
      "\n",
      "  age  handicap_weight_x         jockey                      trainer  ...  \\\n",
      "0   2               57.0      Demuro C.                     Brogi S.  ...   \n",
      "1   2               55.5   Roussel Ale.                  Monfort Ed.  ...   \n",
      "2   2               55.5  Murzabayev B.  Janackova Koplikova Mlle I.  ...   \n",
      "3   2               55.5       Guyon M.                 Vermeulen F.  ...   \n",
      "4   2               55.5     Besnier H.  Janackova Koplikova Mlle I.  ...   \n",
      "\n",
      "   ZE_2/4  ZE_4  ZE_4_order  ZE_5  ZE_234_2  ZE_234_3 ZE_234_4  ZE_345_3  \\\n",
      "0     0.0     0           0     0         0         0        0         0   \n",
      "1     0.0     0           0     0         0         0        0         0   \n",
      "2     0.0     0           0     0         0         0        0         0   \n",
      "3     0.0     0           0     0         0         0        0         0   \n",
      "4     0.0     0           0     0         0         0        0         0   \n",
      "\n",
      "   ZE_345_4 ZE_345_5  \n",
      "0         0        0  \n",
      "1         0        0  \n",
      "2         0        0  \n",
      "3         0        0  \n",
      "4         0        0  \n",
      "\n",
      "[5 rows x 102 columns]\n"
     ]
    }
   ],
   "source": [
    "print(merged_df.head())\n",
    "\n"
   ]
  },
  {
   "cell_type": "code",
   "execution_count": 108,
   "metadata": {},
   "outputs": [
    {
     "name": "stdout",
     "output_type": "stream",
     "text": [
      "Index(['horse_id', 'race_id', 'race_name_x', 'horse_name_x', 'number', 'sex',\n",
      "       'age', 'handicap_weight_x', 'jockey', 'trainer',\n",
      "       ...\n",
      "       'ZE_2/4', 'ZE_4', 'ZE_4_order', 'ZE_5', 'ZE_234_2', 'ZE_234_3',\n",
      "       'ZE_234_4', 'ZE_345_3', 'ZE_345_4', 'ZE_345_5'],\n",
      "      dtype='object', length=102)\n"
     ]
    }
   ],
   "source": [
    "print(merged_df.columns)"
   ]
  },
  {
   "cell_type": "code",
   "execution_count": 109,
   "metadata": {},
   "outputs": [],
   "source": [
    "# merged_df.to_csv(r'C:\\Users\\sujit\\OneDrive - Sri Lanka Institute of Information Technology\\Research SLIIT\\Research Project\\Dataset\\merged_horse_racing_data3.csv', index=False)\n"
   ]
  },
  {
   "cell_type": "code",
   "execution_count": 110,
   "metadata": {},
   "outputs": [
    {
     "name": "stdout",
     "output_type": "stream",
     "text": [
      "  horse_id race_id                   race_name_x   horse_name_x number sex  \\\n",
      "0      H_1     R_1  Prix Zeturf (Prix North Jet)       MARSELAN      1   H   \n",
      "1      H_2     R_1  Prix Zeturf (Prix North Jet)    HASHTAG JOA      2   F   \n",
      "2      H_3     R_1  Prix Zeturf (Prix North Jet)          GABON      3   M   \n",
      "3      H_4     R_1  Prix Zeturf (Prix North Jet)  SACHA SUNRISE      4   M   \n",
      "4      H_5     R_1  Prix Zeturf (Prix North Jet)         ZABYAK      5   M   \n",
      "\n",
      "  age  handicap_weight_x         jockey                      trainer  ...  \\\n",
      "0   2               57.0      Demuro C.                     Brogi S.  ...   \n",
      "1   2               55.5   Roussel Ale.                  Monfort Ed.  ...   \n",
      "2   2               55.5  Murzabayev B.  Janackova Koplikova Mlle I.  ...   \n",
      "3   2               55.5       Guyon M.                 Vermeulen F.  ...   \n",
      "4   2               55.5     Besnier H.  Janackova Koplikova Mlle I.  ...   \n",
      "\n",
      "   ZE_2/4  ZE_4  ZE_4_order  ZE_5  ZE_234_2  ZE_234_3 ZE_234_4  ZE_345_3  \\\n",
      "0     0.0     0           0     0         0         0        0         0   \n",
      "1     0.0     0           0     0         0         0        0         0   \n",
      "2     0.0     0           0     0         0         0        0         0   \n",
      "3     0.0     0           0     0         0         0        0         0   \n",
      "4     0.0     0           0     0         0         0        0         0   \n",
      "\n",
      "   ZE_345_4 ZE_345_5  \n",
      "0         0        0  \n",
      "1         0        0  \n",
      "2         0        0  \n",
      "3         0        0  \n",
      "4         0        0  \n",
      "\n",
      "[5 rows x 102 columns]\n"
     ]
    }
   ],
   "source": [
    "print(merged_df.head())  # Shows the first 5 rows\n"
   ]
  },
  {
   "cell_type": "code",
   "execution_count": 111,
   "metadata": {},
   "outputs": [],
   "source": [
    "# Remove duplicate columns based on their names\n",
    "merged_df = merged_df.loc[:, ~merged_df.columns.duplicated()]\n"
   ]
  },
  {
   "cell_type": "code",
   "execution_count": 112,
   "metadata": {},
   "outputs": [],
   "source": [
    "# Remove columns with duplicate content\n",
    "merged_df = merged_df.T.drop_duplicates().T\n"
   ]
  },
  {
   "cell_type": "code",
   "execution_count": 113,
   "metadata": {},
   "outputs": [
    {
     "name": "stdout",
     "output_type": "stream",
     "text": [
      "Index(['horse_id', 'race_id', 'race_name_x', 'horse_name_x', 'number', 'sex',\n",
      "       'age', 'handicap_weight_x', 'jockey', 'trainer', 'win_odd_live_x',\n",
      "       'reference_odd_x', 'min_place_odd_x', 'max_place_odd_x',\n",
      "       'ze_show_odd_x', 'ze_4th_odd_x', 'music', 'corde_x', 'position_x',\n",
      "       'date', 'Start', 'event_name', 'race_type', 'distance', 'prize',\n",
      "       'field', 'track', 'corde_y', 'penetrometer', 'number of horses_x',\n",
      "       'race time', 'jockey_id', 'trainer_id', 'prognose_id', '1st_x', '2nd_x',\n",
      "       '3nd', '4th_x', '5th_x', '6th_x', '7th_x', 'final_result_id', '1st_y',\n",
      "       '2nd_y', '3rd', '4th_y', '5th_y', '6th_y', '7th_y', 'winning_id', 'win',\n",
      "       '1_place', 'ZE_Show', '2_place', '3_place', 'ZE_4th', '1_2_win',\n",
      "       '1_2_place', '1_3_place', '1_2_order', 'trifecta_box', 'trifecta',\n",
      "       'ZE_2/4', 'ZE_4'],\n",
      "      dtype='object')\n"
     ]
    }
   ],
   "source": [
    "print(merged_df.columns)  # Check which columns remain after dropping duplicates\n"
   ]
  },
  {
   "cell_type": "code",
   "execution_count": 114,
   "metadata": {},
   "outputs": [],
   "source": [
    "# merged_df.to_csv(r'C:\\Users\\sujit\\OneDrive - Sri Lanka Institute of Information Technology\\Research SLIIT\\Research Project\\Dataset\\merged_horse_racing_data3.csv', index=False)\n"
   ]
  },
  {
   "cell_type": "code",
   "execution_count": null,
   "metadata": {},
   "outputs": [],
   "source": []
  }
 ],
 "metadata": {
  "kernelspec": {
   "display_name": "Python 3",
   "language": "python",
   "name": "python3"
  },
  "language_info": {
   "codemirror_mode": {
    "name": "ipython",
    "version": 3
   },
   "file_extension": ".py",
   "mimetype": "text/x-python",
   "name": "python",
   "nbconvert_exporter": "python",
   "pygments_lexer": "ipython3",
   "version": "3.12.0"
  }
 },
 "nbformat": 4,
 "nbformat_minor": 2
}
