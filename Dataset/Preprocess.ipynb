{
 "cells": [
  {
   "cell_type": "code",
   "execution_count": 2,
   "metadata": {},
   "outputs": [],
   "source": [
    "import pandas as pd\n",
    "\n",
    "# Load CSV files into DataFrames\n",
    "horses_df = pd.read_csv('C:\\\\Users\\\\sujit\\\\OneDrive - Sri Lanka Institute of Information Technology\\\\Research SLIIT\\\\Research Project\\\\Dataset\\\\horses.csv')\n",
    "jockeys_df = pd.read_csv('C:\\\\Users\\\\sujit\\\\OneDrive - Sri Lanka Institute of Information Technology\\\\Research SLIIT\\\\Research Project\\\\Dataset\\\\jockeys.csv')\n",
    "races_df = pd.read_csv('C:\\\\Users\\\\sujit\\\\OneDrive - Sri Lanka Institute of Information Technology\\\\Research SLIIT\\\\Research Project\\\\Dataset\\\\races.csv')\n",
    "trainers_df = pd.read_csv('C:\\\\Users\\\\sujit\\\\OneDrive - Sri Lanka Institute of Information Technology\\\\Research SLIIT\\\\Research Project\\\\Dataset\\\\trainers.csv')\n",
    "winnings_df = pd.read_csv('C:\\\\Users\\\\sujit\\\\OneDrive - Sri Lanka Institute of Information Technology\\\\Research SLIIT\\\\Research Project\\\\Dataset\\\\winnings.csv')\n",
    "final_results_df = pd.read_csv('C:\\\\Users\\\\sujit\\\\OneDrive - Sri Lanka Institute of Information Technology\\\\Research SLIIT\\\\Research Project\\\\Dataset\\\\final_results.csv')\n"
   ]
  },
  {
   "cell_type": "code",
   "execution_count": 3,
   "metadata": {},
   "outputs": [],
   "source": [
    "# Merge horses with races\n",
    "merged_df = pd.merge(horses_df, races_df, on='race_id', how='inner')\n"
   ]
  },
  {
   "cell_type": "code",
   "execution_count": 4,
   "metadata": {},
   "outputs": [],
   "source": [
    "# Merge the result with jockeys\n",
    "merged_df = pd.merge(merged_df, jockeys_df, on=['race_id', 'horse_id'], how='inner')\n"
   ]
  },
  {
   "cell_type": "code",
   "execution_count": 5,
   "metadata": {},
   "outputs": [],
   "source": [
    "# Rename 'race_name' in trainers_df to avoid conflict\n",
    "trainers_df = trainers_df.rename(columns={'race_name': 'trainer_race_name'})\n",
    "\n",
    "# Now merge without conflicts\n",
    "merged_df = pd.merge(merged_df, trainers_df, on=['race_id', 'horse_id', 'jockey_id'], how='inner')\n"
   ]
  },
  {
   "cell_type": "code",
   "execution_count": 6,
   "metadata": {},
   "outputs": [],
   "source": [
    "# Rename 'race_name' in final_results_df to avoid conflict\n",
    "final_results_df = final_results_df.rename(columns={'race_name': 'final_race_name'})\n",
    "\n",
    "# Now merge without conflicts\n",
    "merged_df = pd.merge(merged_df, final_results_df, on='race_id', how='left')\n"
   ]
  },
  {
   "cell_type": "code",
   "execution_count": 7,
   "metadata": {},
   "outputs": [],
   "source": [
    "#merged_df.to_csv(r'C:\\Users\\sujit\\OneDrive - Sri Lanka Institute of Information Technology\\Research SLIIT\\Research Project\\Dataset\\merged_horse_racing_data4.csv', index=False)\n"
   ]
  },
  {
   "cell_type": "code",
   "execution_count": 8,
   "metadata": {},
   "outputs": [
    {
     "name": "stderr",
     "output_type": "stream",
     "text": [
      "C:\\Users\\sujit\\AppData\\Local\\Temp\\ipykernel_12628\\3875104938.py:1: DtypeWarning: Columns (4,6,35,49,61) have mixed types. Specify dtype option on import or set low_memory=False.\n",
      "  merged_df = pd.read_csv('C:\\\\Users\\\\sujit\\\\OneDrive - Sri Lanka Institute of Information Technology\\\\Research SLIIT\\\\Research Project\\\\Dataset\\\\merged_horse_racing_data4.csv')\n"
     ]
    }
   ],
   "source": [
    "merged_df = pd.read_csv('C:\\\\Users\\\\sujit\\\\OneDrive - Sri Lanka Institute of Information Technology\\\\Research SLIIT\\\\Research Project\\\\Dataset\\\\merged_horse_racing_data4.csv')\n"
   ]
  },
  {
   "cell_type": "code",
   "execution_count": 9,
   "metadata": {},
   "outputs": [
    {
     "name": "stdout",
     "output_type": "stream",
     "text": [
      "  horse_id race_id                     race_name     horse_name number sex  \\\n",
      "0      H_1     R_1  Prix Zeturf (Prix North Jet)       MARSELAN      1   H   \n",
      "1      H_2     R_1  Prix Zeturf (Prix North Jet)    HASHTAG JOA      2   F   \n",
      "2      H_3     R_1  Prix Zeturf (Prix North Jet)          GABON      3   M   \n",
      "3      H_4     R_1  Prix Zeturf (Prix North Jet)  SACHA SUNRISE      4   M   \n",
      "4      H_5     R_1  Prix Zeturf (Prix North Jet)         ZABYAK      5   M   \n",
      "\n",
      "  age  handicap_weight         jockey                      trainer  ...  \\\n",
      "0   2             57.0      Demuro C.                     Brogi S.  ...   \n",
      "1   2             55.5   Roussel Ale.                  Monfort Ed.  ...   \n",
      "2   2             55.5  Murzabayev B.  Janackova Koplikova Mlle I.  ...   \n",
      "3   2             55.5       Guyon M.                 Vermeulen F.  ...   \n",
      "4   2             55.5     Besnier H.  Janackova Koplikova Mlle I.  ...   \n",
      "\n",
      "   position.2  final_result_id               final_race_name  1st  2nd  3rd  \\\n",
      "0           1             FR_1  Prix Zeturf (Prix North Jet)    1    3    4   \n",
      "1           4             FR_1  Prix Zeturf (Prix North Jet)    1    3    4   \n",
      "2           2             FR_1  Prix Zeturf (Prix North Jet)    1    3    4   \n",
      "3           3             FR_1  Prix Zeturf (Prix North Jet)    1    3    4   \n",
      "4           5             FR_1  Prix Zeturf (Prix North Jet)    1    3    4   \n",
      "\n",
      "  4th  5th  6th 7th  \n",
      "0   2    5    7   0  \n",
      "1   2    5    7   0  \n",
      "2   2    5    7   0  \n",
      "3   2    5    7   0  \n",
      "4   2    5    7   0  \n",
      "\n",
      "[5 rows x 68 columns]\n"
     ]
    }
   ],
   "source": [
    "print(merged_df.head())  # Shows the first 5 rows\n"
   ]
  },
  {
   "cell_type": "code",
   "execution_count": 10,
   "metadata": {},
   "outputs": [
    {
     "name": "stdout",
     "output_type": "stream",
     "text": [
      "Index(['horse_id', 'race_id', 'race_name', 'horse_name', 'number', 'sex',\n",
      "       'age', 'handicap_weight', 'jockey', 'trainer', 'win_odd_live',\n",
      "       'reference_odd', 'min_place_odd', 'max_place_odd', 'ze_show_odd',\n",
      "       'ze_4th_odd', 'music', 'corde', 'position', 'date', 'Start',\n",
      "       'event_name', 'race_name.1', 'race_type', 'distance', 'prize', 'field',\n",
      "       'track', 'corde.1', 'penetrometer', 'number of horses', 'race time',\n",
      "       'jockey_id', 'jockey_name', 'race_name.2', 'horse_number',\n",
      "       'horse_name.1', 'handicap_weight.1', 'win_odd_live.1',\n",
      "       'reference_odd.1', 'min_place_odd.1', 'max_place_odd.1',\n",
      "       'ze_show_odd.1', 'ze_4th_odd.1', 'position.1', 'trainer_id',\n",
      "       'trainer_name', 'jockey_name.1', 'trainer_race_name', 'horse_number.1',\n",
      "       'horse_name.2', 'handicap_weight.2', 'win_odd_live.2',\n",
      "       'reference_odd.2', 'min_place_odd.2', 'max_place_odd.2',\n",
      "       'ze_show_odd.2', 'ze_4th_odd.2', 'position.2', 'final_result_id',\n",
      "       'final_race_name', '1st', '2nd', '3rd', '4th', '5th', '6th', '7th'],\n",
      "      dtype='object')\n"
     ]
    }
   ],
   "source": [
    "print(merged_df.columns)  # Check which columns remain after dropping duplicates\n"
   ]
  },
  {
   "cell_type": "code",
   "execution_count": 11,
   "metadata": {},
   "outputs": [],
   "source": [
    "# Remove duplicate columns based on their names\n",
    "merged_df = merged_df.loc[:, ~merged_df.columns.duplicated()]\n"
   ]
  },
  {
   "cell_type": "code",
   "execution_count": 12,
   "metadata": {},
   "outputs": [],
   "source": [
    "# Remove columns with duplicate content\n",
    "merged_df = merged_df.T.drop_duplicates().T\n"
   ]
  },
  {
   "cell_type": "code",
   "execution_count": 13,
   "metadata": {},
   "outputs": [
    {
     "name": "stdout",
     "output_type": "stream",
     "text": [
      "Index(['horse_id', 'race_id', 'race_name', 'horse_name', 'number', 'sex',\n",
      "       'age', 'handicap_weight', 'jockey', 'trainer', 'win_odd_live',\n",
      "       'reference_odd', 'min_place_odd', 'max_place_odd', 'ze_show_odd',\n",
      "       'ze_4th_odd', 'music', 'corde', 'position', 'date', 'Start',\n",
      "       'event_name', 'race_type', 'distance', 'prize', 'field', 'track',\n",
      "       'corde.1', 'penetrometer', 'number of horses', 'race time', 'jockey_id',\n",
      "       'trainer_id', 'final_result_id', '1st', '2nd', '3rd', '4th', '5th',\n",
      "       '6th', '7th'],\n",
      "      dtype='object')\n"
     ]
    }
   ],
   "source": [
    "print(merged_df.columns)  # Check which columns remain after dropping duplicates\n"
   ]
  },
  {
   "cell_type": "code",
   "execution_count": 14,
   "metadata": {},
   "outputs": [
    {
     "name": "stdout",
     "output_type": "stream",
     "text": [
      "<bound method NDFrame.head of       horse_id race_id                     race_name        horse_name number  \\\n",
      "0          H_1     R_1  Prix Zeturf (Prix North Jet)          MARSELAN      1   \n",
      "1          H_2     R_1  Prix Zeturf (Prix North Jet)       HASHTAG JOA      2   \n",
      "2          H_3     R_1  Prix Zeturf (Prix North Jet)             GABON      3   \n",
      "3          H_4     R_1  Prix Zeturf (Prix North Jet)     SACHA SUNRISE      4   \n",
      "4          H_5     R_1  Prix Zeturf (Prix North Jet)            ZABYAK      5   \n",
      "...        ...     ...                           ...               ...    ...   \n",
      "75157  H_75158  R_6548           Prix Javier Nino H.      WINNER STATE     11   \n",
      "75158  H_75159  R_6548           Prix Javier Nino H.     REO POR LINDO     12   \n",
      "75159  H_75160  R_6548           Prix Javier Nino H.           DEMENTE     13   \n",
      "75160  H_75161  R_6548           Prix Javier Nino H.        MI MARTUCA     14   \n",
      "75161  H_75162  R_6548           Prix Javier Nino H.  LORD OF THE WIND     15   \n",
      "\n",
      "      sex age handicap_weight                      jockey  \\\n",
      "0       H   2            57.0                   Demuro C.   \n",
      "1       F   2            55.5                Roussel Ale.   \n",
      "2       M   2            55.5               Murzabayev B.   \n",
      "3       M   2            55.5                    Guyon M.   \n",
      "4       M   2            55.5                  Besnier H.   \n",
      "...    ..  ..             ...                         ...   \n",
      "75157   H   8            53.0                  S Gonzalez   \n",
      "75158   M   8            56.0      Santibanez Chavez Nic.   \n",
      "75159   H   4            52.0  Carrasco Rodriguez Die. F.   \n",
      "75160   F   8            57.0                     Leon W.   \n",
      "75161   M   5            56.0                 Vargas Wil.   \n",
      "\n",
      "                             trainer  ... jockey_id trainer_id  \\\n",
      "0                           Brogi S.  ...       J_1        T_1   \n",
      "1                        Monfort Ed.  ...       J_2        T_2   \n",
      "2        Janackova Koplikova Mlle I.  ...       J_3        T_3   \n",
      "3                       Vermeulen F.  ...       J_4        T_4   \n",
      "4        Janackova Koplikova Mlle I.  ...       J_5        T_3   \n",
      "...                              ...  ...       ...        ...   \n",
      "75157  Raul Andres Montesino Serrano  ...     J_359     T_1082   \n",
      "75158             Aldo Rodolfo Parra  ...     J_327      T_442   \n",
      "75159                    R Montesino  ...     J_363     T_1066   \n",
      "75160  Juan Pablo Rodriguez Riquelme  ...     J_331     T_1098   \n",
      "75161             Aldo Rodolfo Parra  ...     J_857      T_442   \n",
      "\n",
      "      final_result_id 1st 2nd 3rd 4th 5th 6th 7th  \n",
      "0                FR_1   1   3   4   2   5   7   0  \n",
      "1                FR_1   1   3   4   2   5   7   0  \n",
      "2                FR_1   1   3   4   2   5   7   0  \n",
      "3                FR_1   1   3   4   2   5   7   0  \n",
      "4                FR_1   1   3   4   2   5   7   0  \n",
      "...               ...  ..  ..  ..  ..  ..  ..  ..  \n",
      "75157         FR_6548  10   5   3  12   2   7   4  \n",
      "75158         FR_6548  10   5   3  12   2   7   4  \n",
      "75159         FR_6548  10   5   3  12   2   7   4  \n",
      "75160         FR_6548  10   5   3  12   2   7   4  \n",
      "75161         FR_6548  10   5   3  12   2   7   4  \n",
      "\n",
      "[75162 rows x 41 columns]>\n"
     ]
    }
   ],
   "source": [
    "print(merged_df.head)  # Check which columns remain after dropping duplicates\n"
   ]
  },
  {
   "cell_type": "code",
   "execution_count": 15,
   "metadata": {},
   "outputs": [],
   "source": [
    "#merged_df.to_csv(r'C:\\Users\\sujit\\OneDrive - Sri Lanka Institute of Information Technology\\Research SLIIT\\Research Project\\Dataset\\Final_horse_racing_dataset.csv', index=False)\n"
   ]
  },
  {
   "cell_type": "code",
   "execution_count": 16,
   "metadata": {},
   "outputs": [
    {
     "name": "stderr",
     "output_type": "stream",
     "text": [
      "C:\\Users\\sujit\\AppData\\Local\\Temp\\ipykernel_12628\\50200906.py:1: DtypeWarning: Columns (34) have mixed types. Specify dtype option on import or set low_memory=False.\n",
      "  merged_df = pd.read_csv('C:\\\\Users\\\\sujit\\\\OneDrive - Sri Lanka Institute of Information Technology\\\\Research SLIIT\\\\Research Project\\\\Dataset\\\\Final_horse_racing_dataset.csv')\n"
     ]
    }
   ],
   "source": [
    "merged_df = pd.read_csv('C:\\\\Users\\\\sujit\\\\OneDrive - Sri Lanka Institute of Information Technology\\\\Research SLIIT\\\\Research Project\\\\Dataset\\\\Final_horse_racing_dataset.csv')\n"
   ]
  },
  {
   "cell_type": "code",
   "execution_count": 17,
   "metadata": {},
   "outputs": [
    {
     "name": "stdout",
     "output_type": "stream",
     "text": [
      "<bound method NDFrame.head of       horse_id race_id                     race_name        horse_name number  \\\n",
      "0          H_1     R_1  Prix Zeturf (Prix North Jet)          MARSELAN      1   \n",
      "1          H_2     R_1  Prix Zeturf (Prix North Jet)       HASHTAG JOA      2   \n",
      "2          H_3     R_1  Prix Zeturf (Prix North Jet)             GABON      3   \n",
      "3          H_4     R_1  Prix Zeturf (Prix North Jet)     SACHA SUNRISE      4   \n",
      "4          H_5     R_1  Prix Zeturf (Prix North Jet)            ZABYAK      5   \n",
      "...        ...     ...                           ...               ...    ...   \n",
      "75157  H_75158  R_6548           Prix Javier Nino H.      WINNER STATE     11   \n",
      "75158  H_75159  R_6548           Prix Javier Nino H.     REO POR LINDO     12   \n",
      "75159  H_75160  R_6548           Prix Javier Nino H.           DEMENTE     13   \n",
      "75160  H_75161  R_6548           Prix Javier Nino H.        MI MARTUCA     14   \n",
      "75161  H_75162  R_6548           Prix Javier Nino H.  LORD OF THE WIND     15   \n",
      "\n",
      "      sex age  handicap_weight                      jockey  \\\n",
      "0       H   2             57.0                   Demuro C.   \n",
      "1       F   2             55.5                Roussel Ale.   \n",
      "2       M   2             55.5               Murzabayev B.   \n",
      "3       M   2             55.5                    Guyon M.   \n",
      "4       M   2             55.5                  Besnier H.   \n",
      "...    ..  ..              ...                         ...   \n",
      "75157   H   8             53.0                  S Gonzalez   \n",
      "75158   M   8             56.0      Santibanez Chavez Nic.   \n",
      "75159   H   4             52.0  Carrasco Rodriguez Die. F.   \n",
      "75160   F   8             57.0                     Leon W.   \n",
      "75161   M   5             56.0                 Vargas Wil.   \n",
      "\n",
      "                             trainer  ...  jockey_id  trainer_id  \\\n",
      "0                           Brogi S.  ...        J_1         T_1   \n",
      "1                        Monfort Ed.  ...        J_2         T_2   \n",
      "2        Janackova Koplikova Mlle I.  ...        J_3         T_3   \n",
      "3                       Vermeulen F.  ...        J_4         T_4   \n",
      "4        Janackova Koplikova Mlle I.  ...        J_5         T_3   \n",
      "...                              ...  ...        ...         ...   \n",
      "75157  Raul Andres Montesino Serrano  ...      J_359      T_1082   \n",
      "75158             Aldo Rodolfo Parra  ...      J_327       T_442   \n",
      "75159                    R Montesino  ...      J_363      T_1066   \n",
      "75160  Juan Pablo Rodriguez Riquelme  ...      J_331      T_1098   \n",
      "75161             Aldo Rodolfo Parra  ...      J_857       T_442   \n",
      "\n",
      "       final_result_id  1st  2nd  3rd 4th  5th  6th 7th  \n",
      "0                 FR_1    1    3    4   2    5    7   0  \n",
      "1                 FR_1    1    3    4   2    5    7   0  \n",
      "2                 FR_1    1    3    4   2    5    7   0  \n",
      "3                 FR_1    1    3    4   2    5    7   0  \n",
      "4                 FR_1    1    3    4   2    5    7   0  \n",
      "...                ...  ...  ...  ...  ..  ...  ...  ..  \n",
      "75157          FR_6548   10    5    3  12    2    7   4  \n",
      "75158          FR_6548   10    5    3  12    2    7   4  \n",
      "75159          FR_6548   10    5    3  12    2    7   4  \n",
      "75160          FR_6548   10    5    3  12    2    7   4  \n",
      "75161          FR_6548   10    5    3  12    2    7   4  \n",
      "\n",
      "[75162 rows x 41 columns]>\n"
     ]
    }
   ],
   "source": [
    "print(merged_df.head)  # Check which columns remain after dropping duplicates\n"
   ]
  },
  {
   "cell_type": "markdown",
   "metadata": {},
   "source": [
    "Handling Missing Values "
   ]
  },
  {
   "cell_type": "code",
   "execution_count": 18,
   "metadata": {},
   "outputs": [
    {
     "name": "stdout",
     "output_type": "stream",
     "text": [
      "horse_id             0\n",
      "race_id              0\n",
      "race_name            0\n",
      "horse_name           0\n",
      "number               0\n",
      "sex                 92\n",
      "age                  0\n",
      "handicap_weight      0\n",
      "jockey              72\n",
      "trainer              1\n",
      "win_odd_live         0\n",
      "reference_odd        0\n",
      "min_place_odd        0\n",
      "max_place_odd        0\n",
      "ze_show_odd          0\n",
      "ze_4th_odd           0\n",
      "music                0\n",
      "corde                0\n",
      "position             0\n",
      "date                 0\n",
      "Start                0\n",
      "event_name           0\n",
      "race_type            0\n",
      "distance             0\n",
      "prize               12\n",
      "field                0\n",
      "track                0\n",
      "corde.1              0\n",
      "penetrometer         0\n",
      "number of horses     0\n",
      "race time            0\n",
      "jockey_id            0\n",
      "trainer_id           0\n",
      "final_result_id      0\n",
      "1st                  0\n",
      "2nd                  0\n",
      "3rd                  0\n",
      "4th                  0\n",
      "5th                  0\n",
      "6th                  0\n",
      "7th                  0\n",
      "dtype: int64\n"
     ]
    }
   ],
   "source": [
    "# Check for missing values\n",
    "print(merged_df.isnull().sum())"
   ]
  },
  {
   "cell_type": "code",
   "execution_count": 19,
   "metadata": {},
   "outputs": [],
   "source": [
    "# Fill missing values in 'prize' with the mean\n",
    "merged_df['prize'].fillna(merged_df['prize'].mean(), inplace=True)\n",
    "\n",
    "# Alternatively, fill missing values in 'prize' with the median\n",
    "merged_df['prize'].fillna(merged_df['prize'].median(), inplace=True)\n"
   ]
  },
  {
   "cell_type": "code",
   "execution_count": 20,
   "metadata": {},
   "outputs": [],
   "source": [
    "# Fill missing values in 'jockey' with 'Unknown'\n",
    "merged_df['jockey'].fillna('Unknown', inplace=True)\n"
   ]
  },
  {
   "cell_type": "code",
   "execution_count": 21,
   "metadata": {},
   "outputs": [],
   "source": [
    "# Fill missing values in 'sex' with 'Unknown'\n",
    "merged_df['sex'].fillna('Unknown', inplace=True)\n"
   ]
  },
  {
   "cell_type": "code",
   "execution_count": 22,
   "metadata": {},
   "outputs": [],
   "source": [
    "# Fill missing values in 'trainer' with 'Unknown'\n",
    "merged_df['trainer'].fillna('Unknown', inplace=True)\n"
   ]
  },
  {
   "cell_type": "code",
   "execution_count": 23,
   "metadata": {},
   "outputs": [
    {
     "name": "stdout",
     "output_type": "stream",
     "text": [
      "horse_id            0\n",
      "race_id             0\n",
      "race_name           0\n",
      "horse_name          0\n",
      "number              0\n",
      "sex                 0\n",
      "age                 0\n",
      "handicap_weight     0\n",
      "jockey              0\n",
      "trainer             0\n",
      "win_odd_live        0\n",
      "reference_odd       0\n",
      "min_place_odd       0\n",
      "max_place_odd       0\n",
      "ze_show_odd         0\n",
      "ze_4th_odd          0\n",
      "music               0\n",
      "corde               0\n",
      "position            0\n",
      "date                0\n",
      "Start               0\n",
      "event_name          0\n",
      "race_type           0\n",
      "distance            0\n",
      "prize               0\n",
      "field               0\n",
      "track               0\n",
      "corde.1             0\n",
      "penetrometer        0\n",
      "number of horses    0\n",
      "race time           0\n",
      "jockey_id           0\n",
      "trainer_id          0\n",
      "final_result_id     0\n",
      "1st                 0\n",
      "2nd                 0\n",
      "3rd                 0\n",
      "4th                 0\n",
      "5th                 0\n",
      "6th                 0\n",
      "7th                 0\n",
      "dtype: int64\n"
     ]
    }
   ],
   "source": [
    "# Check if there are any missing values left\n",
    "print(merged_df.isnull().sum())\n"
   ]
  },
  {
   "cell_type": "markdown",
   "metadata": {},
   "source": [
    "Convert Data Types"
   ]
  },
  {
   "cell_type": "code",
   "execution_count": 24,
   "metadata": {},
   "outputs": [
    {
     "name": "stdout",
     "output_type": "stream",
     "text": [
      "horse_id             object\n",
      "race_id              object\n",
      "race_name            object\n",
      "horse_name           object\n",
      "number               object\n",
      "sex                  object\n",
      "age                  object\n",
      "handicap_weight     float64\n",
      "jockey               object\n",
      "trainer              object\n",
      "win_odd_live        float64\n",
      "reference_odd       float64\n",
      "min_place_odd       float64\n",
      "max_place_odd       float64\n",
      "ze_show_odd         float64\n",
      "ze_4th_odd          float64\n",
      "music                object\n",
      "corde                 int64\n",
      "position              int64\n",
      "date                 object\n",
      "Start                object\n",
      "event_name           object\n",
      "race_type            object\n",
      "distance              int64\n",
      "prize               float64\n",
      "field                object\n",
      "track                object\n",
      "corde.1              object\n",
      "penetrometer        float64\n",
      "number of horses      int64\n",
      "race time           float64\n",
      "jockey_id            object\n",
      "trainer_id           object\n",
      "final_result_id      object\n",
      "1st                  object\n",
      "2nd                   int64\n",
      "3rd                   int64\n",
      "4th                   int64\n",
      "5th                   int64\n",
      "6th                   int64\n",
      "7th                   int64\n",
      "dtype: object\n"
     ]
    }
   ],
   "source": [
    "# Check current data types\n",
    "print(merged_df.dtypes)\n"
   ]
  },
  {
   "cell_type": "code",
   "execution_count": 25,
   "metadata": {},
   "outputs": [],
   "source": [
    "# Replace 'Unknown' with 0 in the 'age' column\n",
    "merged_df['age'].replace('Unknown', 0, inplace=True)"
   ]
  },
  {
   "cell_type": "code",
   "execution_count": 26,
   "metadata": {},
   "outputs": [],
   "source": [
    "# Convert 'age' to numeric and handle any remaining non-numeric entries\n",
    "merged_df['age'] = pd.to_numeric(merged_df['age'], errors='coerce')\n",
    "\n",
    "# Now, fill any remaining NaN values with 0\n",
    "merged_df['age'].fillna(0, inplace=True)\n",
    "\n",
    "# Finally, convert 'age' to int\n",
    "merged_df['age'] = merged_df['age'].astype(int)"
   ]
  },
  {
   "cell_type": "code",
   "execution_count": 27,
   "metadata": {},
   "outputs": [
    {
     "name": "stdout",
     "output_type": "stream",
     "text": [
      "horse_id                    object\n",
      "race_id                     object\n",
      "race_name                 category\n",
      "horse_name                category\n",
      "number                    category\n",
      "sex                       category\n",
      "age                          int32\n",
      "handicap_weight            float64\n",
      "jockey                    category\n",
      "trainer                   category\n",
      "win_odd_live               float64\n",
      "reference_odd              float64\n",
      "min_place_odd              float64\n",
      "max_place_odd              float64\n",
      "ze_show_odd                float64\n",
      "ze_4th_odd                 float64\n",
      "music                     category\n",
      "corde                        int64\n",
      "position                     int64\n",
      "date                datetime64[ns]\n",
      "Start               datetime64[ns]\n",
      "event_name                category\n",
      "race_type                 category\n",
      "distance                     int64\n",
      "prize                      float64\n",
      "field                       object\n",
      "track                       object\n",
      "corde.1                     object\n",
      "penetrometer               float64\n",
      "number of horses             int64\n",
      "race time                  float64\n",
      "jockey_id                   object\n",
      "trainer_id                  object\n",
      "final_result_id             object\n",
      "1st                         object\n",
      "2nd                          int64\n",
      "3rd                          int64\n",
      "4th                          int64\n",
      "5th                          int64\n",
      "6th                          int64\n",
      "7th                          int64\n",
      "dtype: object\n"
     ]
    },
    {
     "name": "stderr",
     "output_type": "stream",
     "text": [
      "C:\\Users\\sujit\\AppData\\Local\\Temp\\ipykernel_12628\\2563754893.py:13: UserWarning: Parsing dates in %d/%m/%Y format when dayfirst=False (the default) was specified. Pass `dayfirst=True` or specify a format to silence this warning.\n",
      "  merged_df['date'] = pd.to_datetime(merged_df['date'], errors='coerce')  # Convert to datetime\n",
      "C:\\Users\\sujit\\AppData\\Local\\Temp\\ipykernel_12628\\2563754893.py:14: UserWarning: Could not infer format, so each element will be parsed individually, falling back to `dateutil`. To ensure parsing is consistent and as-expected, please specify a format.\n",
      "  merged_df['Start'] = pd.to_datetime(merged_df['Start'], errors='coerce')  # Convert to datetime\n"
     ]
    }
   ],
   "source": [
    "import pandas as pd\n",
    "\n",
    "# Assuming merged_df is already defined\n",
    "\n",
    "# Convert columns to appropriate types\n",
    "merged_df['number'] = merged_df['number'].astype('category')  # Convert 'number' to category\n",
    "merged_df['race_name'] = merged_df['race_name'].astype('category')\n",
    "merged_df['horse_name'] = merged_df['horse_name'].astype('category')\n",
    "merged_df['sex'] = merged_df['sex'].astype('category')\n",
    "merged_df['jockey'] = merged_df['jockey'].astype('category')\n",
    "merged_df['trainer'] = merged_df['trainer'].astype('category')\n",
    "merged_df['music'] = merged_df['music'].astype('category')\n",
    "merged_df['date'] = pd.to_datetime(merged_df['date'], errors='coerce')  # Convert to datetime\n",
    "merged_df['Start'] = pd.to_datetime(merged_df['Start'], errors='coerce')  # Convert to datetime\n",
    "merged_df['event_name'] = merged_df['event_name'].astype('category')\n",
    "merged_df['race_type'] = merged_df['race_type'].astype('category')\n",
    "\n",
    "# Check the new data types\n",
    "print(merged_df.dtypes)\n"
   ]
  },
  {
   "cell_type": "code",
   "execution_count": 28,
   "metadata": {},
   "outputs": [
    {
     "name": "stdout",
     "output_type": "stream",
     "text": [
      "(75162, 121182)\n",
      "  horse_id race_id number  age  handicap_weight  win_odd_live  reference_odd  \\\n",
      "0      H_1     R_1      1    2             57.0           3.1            3.0   \n",
      "1      H_2     R_1      2    2             55.5           4.4            5.1   \n",
      "2      H_3     R_1      3    2             55.5           2.9            3.1   \n",
      "3      H_4     R_1      4    2             55.5           6.7            6.1   \n",
      "4      H_5     R_1      5    2             55.5          15.4           14.6   \n",
      "\n",
      "   min_place_odd  max_place_odd  ze_show_odd  ...  horse_name_ZWIALH  \\\n",
      "0            1.3            1.8          5.0  ...              False   \n",
      "1            1.8            2.4          3.4  ...              False   \n",
      "2            1.3            1.8          3.6  ...              False   \n",
      "3            3.0            4.2          4.2  ...              False   \n",
      "4            5.5            7.6          8.1  ...              False   \n",
      "\n",
      "   horse_name_ZYGARDE  horse_name_ZYGFRYD race_type_Cross  \\\n",
      "0               False               False           False   \n",
      "1               False               False           False   \n",
      "2               False               False           False   \n",
      "3               False               False           False   \n",
      "4               False               False           False   \n",
      "\n",
      "  race_type_Cross-Country race_type_Haies  race_type_Monté  race_type_Plat  \\\n",
      "0                   False           False            False            True   \n",
      "1                   False           False            False            True   \n",
      "2                   False           False            False            True   \n",
      "3                   False           False            False            True   \n",
      "4                   False           False            False            True   \n",
      "\n",
      "  race_type_Steeple race_type_Steeple-chase  \n",
      "0             False                   False  \n",
      "1             False                   False  \n",
      "2             False                   False  \n",
      "3             False                   False  \n",
      "4             False                   False  \n",
      "\n",
      "[5 rows x 121182 columns]\n"
     ]
    }
   ],
   "source": [
    "# One-hot encode categorical variables\n",
    "merged_df_encoded = pd.get_dummies(\n",
    "    merged_df, \n",
    "    columns=['sex', 'jockey', 'trainer', 'music', 'race_name', 'horse_name', 'race_type'], \n",
    "    drop_first=True\n",
    ")\n",
    "\n",
    "# Check the new DataFrame shape and first few rows\n",
    "print(merged_df_encoded.shape)\n",
    "print(merged_df_encoded.head())\n"
   ]
  },
  {
   "cell_type": "code",
   "execution_count": 29,
   "metadata": {},
   "outputs": [
    {
     "name": "stdout",
     "output_type": "stream",
     "text": [
      "<class 'pandas.core.frame.DataFrame'>\n",
      "RangeIndex: 75162 entries, 0 to 75161\n",
      "Columns: 121182 entries, horse_id to race_type_Steeple-chase\n",
      "dtypes: bool(121148), category(2), datetime64[ns](2), float64(10), int32(1), int64(10), object(9)\n",
      "memory usage: 8.5+ GB\n",
      "None\n"
     ]
    }
   ],
   "source": [
    "print(merged_df_encoded.info())\n"
   ]
  },
  {
   "cell_type": "code",
   "execution_count": 30,
   "metadata": {},
   "outputs": [
    {
     "name": "stdout",
     "output_type": "stream",
     "text": [
      "Index(['horse_id', 'race_id', 'number', 'age', 'handicap_weight',\n",
      "       'win_odd_live', 'reference_odd', 'min_place_odd', 'max_place_odd',\n",
      "       'ze_show_odd',\n",
      "       ...\n",
      "       'horse_name_ZWIALH', 'horse_name_ZYGARDE', 'horse_name_ZYGFRYD',\n",
      "       'race_type_Cross', 'race_type_Cross-Country', 'race_type_Haies',\n",
      "       'race_type_Monté', 'race_type_Plat', 'race_type_Steeple',\n",
      "       'race_type_Steeple-chase'],\n",
      "      dtype='object', length=121182)\n"
     ]
    }
   ],
   "source": [
    "print(merged_df_encoded.columns)  # Check which columns remain after dropping duplicates\n"
   ]
  },
  {
   "cell_type": "code",
   "execution_count": 31,
   "metadata": {},
   "outputs": [],
   "source": [
    "from sklearn.preprocessing import StandardScaler\n",
    "\n",
    "# Assuming you want to standardize certain features\n",
    "scaler = StandardScaler()\n",
    "scaled_columns = ['handicap_weight', 'win_odd_live', 'reference_odd', \n",
    "                  'min_place_odd', 'max_place_odd', 'ze_show_odd', \n",
    "                  'ze_4th_odd', 'corde', 'position', 'distance', 'prize', \n",
    "                  '5th', '6th', '7th']\n",
    "merged_df_encoded[scaled_columns] = scaler.fit_transform(merged_df_encoded[scaled_columns])\n"
   ]
  },
  {
   "cell_type": "code",
   "execution_count": 32,
   "metadata": {},
   "outputs": [],
   "source": [
    "from sklearn.model_selection import train_test_split\n",
    "\n",
    "# Predict 'position' as the target variable\n",
    "X = merged_df_encoded.drop(columns=['position'])  # Drop the target column from features\n",
    "y = merged_df_encoded['position']  # Target column for prediction\n",
    "\n",
    "# Split the dataset into training and testing sets\n",
    "X_train, X_test, y_train, y_test = train_test_split(X, y, test_size=0.2, random_state=42)\n"
   ]
  },
  {
   "cell_type": "code",
   "execution_count": null,
   "metadata": {},
   "outputs": [],
   "source": []
  }
 ],
 "metadata": {
  "kernelspec": {
   "display_name": "Python 3",
   "language": "python",
   "name": "python3"
  },
  "language_info": {
   "codemirror_mode": {
    "name": "ipython",
    "version": 3
   },
   "file_extension": ".py",
   "mimetype": "text/x-python",
   "name": "python",
   "nbconvert_exporter": "python",
   "pygments_lexer": "ipython3",
   "version": "3.12.0"
  }
 },
 "nbformat": 4,
 "nbformat_minor": 2
}
